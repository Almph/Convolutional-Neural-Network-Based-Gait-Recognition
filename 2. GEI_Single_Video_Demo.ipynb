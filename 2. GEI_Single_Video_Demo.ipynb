{
 "cells": [
  {
   "cell_type": "code",
   "execution_count": 48,
   "metadata": {},
   "outputs": [],
   "source": [
    "# -*- coding: utf-8 -*-\n",
    "\"\"\"\n",
    "Created on Thu Jul  5 23:13:39 2018\n",
    "\n",
    "@author: Yuhao Ye\n",
    "\"\"\"\n",
    "import os\n",
    "import numpy as np\n",
    "import cv2\n",
    "import glob as gb\n",
    "import matplotlib.pyplot as plt "
   ]
  },
  {
   "cell_type": "code",
   "execution_count": 49,
   "metadata": {},
   "outputs": [],
   "source": [
    "# For counting how many pictures in a gait video file \n",
    "def visitDir(path):\n",
    "    if not os.path.isdir(path):\n",
    "        print('Error: \"', path, '\" is not a directory or does not exist.')\n",
    "        return\n",
    "    else:\n",
    "        global num\n",
    "        try:\n",
    "            for lists in os.listdir(path):\n",
    "                sub_path = os.path.join(path, lists)\n",
    "                num += 1\n",
    "                # print('No.', x, ' ', sub_path)\n",
    "                if os.path.isdir(sub_path):\n",
    "                    visitDir(sub_path)\n",
    "        except:\n",
    "            pass"
   ]
  },
  {
   "cell_type": "code",
   "execution_count": 50,
   "metadata": {},
   "outputs": [],
   "source": [
    "# count the number of foreground pixels in \n",
    "# the silhouette in each frame over time\n",
    "def pixels_sum(image, height, width):\n",
    "    sum = 0\n",
    "    for heights in range(height):\n",
    "        for widths in range(width):\n",
    "            if image[heights, widths] == 255:\n",
    "                sum +=1\n",
    "    return sum"
   ]
  },
  {
   "cell_type": "code",
   "execution_count": 51,
   "metadata": {},
   "outputs": [],
   "source": [
    "# Find distance from edge of a image to the head of the subject\n",
    "def find_dis_edge_to_head(image, height, width):\n",
    "    flag_of_top = 0\n",
    "    #     height_of_silhouette = 0\n",
    "    # Search row by row for the top point of the head\n",
    "    for heights in range(height):\n",
    "        for widths in range(width):\n",
    "            if flag_of_top == 0 and image[heights, widths] == 255:\n",
    "                edge_to_head_f = heights\n",
    "                flag_of_top = 1\n",
    "    return edge_to_head_f"
   ]
  },
  {
   "cell_type": "code",
   "execution_count": 52,
   "metadata": {},
   "outputs": [],
   "source": [
    "# Find distance from edge of a image to the feet of the subject\n",
    "def find_dis_edge_to_feet(image, height, width):\n",
    "    flag_of_feet = 0\n",
    "    #     height_of_silhouette = 0\n",
    "    # Search row by row for the top point of the head\n",
    "    for heights in range(height):\n",
    "        for widths in range(width):\n",
    "            if flag_of_feet == 0 and image[img.shape[0] - heights, img.shape[1] - widths] == 255:\n",
    "                edge_to_feet_f = heights\n",
    "                flag_of_feet = 1\n",
    "    return edge_to_feet_f"
   ]
  },
  {
   "cell_type": "code",
   "execution_count": 53,
   "metadata": {},
   "outputs": [
    {
     "name": "stdout",
     "output_type": "stream",
     "text": [
      "56 frames in this gait vedio\n"
     ]
    }
   ],
   "source": [
    "num = 0\n",
    "visitDir('D:\\\\AI2thsemester\\\\Gait_Database\\\\GaitDatasetB-silh\\\\001\\\\001\\\\nm-01\\\\090')\n",
    "# img_path = gb.glob(\"036a037s000e00L\\\\*.png\")\n",
    "img_path = gb.glob(\"D:\\\\AI2thsemester\\\\Gait_Database\\\\GaitDatasetB-silh\\\\001\\\\001\\\\nm-01\\\\090\\\\*.png\")\n",
    "print(num, \"frames in this gait vedio\")"
   ]
  },
  {
   "cell_type": "code",
   "execution_count": 54,
   "metadata": {},
   "outputs": [],
   "source": [
    "# Initialize variables \n",
    "binary_silhouette_crop_list = []  # For storing all binary_silhouette frames of one gait video\n",
    "cx_list = []  # For storing all x coordinate of centroid\n",
    "cx_right_list = []  # For storing all (width-cx)\n",
    "edge_to_head_list = []\n",
    "edge_to_feet_list = []\n",
    "img_list = []\n",
    "foreground_pixels_list = []\n",
    "gait_period_flag_value_list = []\n",
    "gait_period_flag_list = []\n",
    "gait_period_flag_plot_list = []\n",
    "one_gait_period_img_list = []\n",
    "gait_period_flag_real_index_list = []\n",
    "count = 0"
   ]
  },
  {
   "cell_type": "code",
   "execution_count": 55,
   "metadata": {},
   "outputs": [
    {
     "name": "stdout",
     "output_type": "stream",
     "text": [
      "gait_period_flag_real_index_list [6, 18, 30, 42]\n",
      "gait_period_flag_list [3, 15, 27, 39]\n",
      "Slected frames:  47\n",
      "One Gait Period Has:  24 frames\n"
     ]
    },
    {
     "data": {
      "image/png": "[encoded data removed]",
      "text/plain": [
       "<matplotlib.figure.Figure at 0x124befde128>"
      ]
     },
     "metadata": {},
     "output_type": "display_data"
    }
   ],
   "source": [
    "# For calculating and selecting one gait period frames\n",
    "for path in img_path:\n",
    "    count += 1\n",
    "    if count > 4 and count < (num - 4):\n",
    "        img = cv2.imread(path)\n",
    "        img = cv2.cvtColor(img, cv2.COLOR_BGR2GRAY)\n",
    "        img_list.append(img)\n",
    "        foreground_pixels = pixels_sum(img, img.shape[0], img.shape[1])\n",
    "        foreground_pixels_list.append(foreground_pixels)\n",
    "for i in range(len(foreground_pixels_list) - 3):\n",
    "    if foreground_pixels_list[i + 3] < foreground_pixels_list[i + 2] and foreground_pixels_list[i + 3] < \\\n",
    "            foreground_pixels_list[i + 1] and foreground_pixels_list[i + 3] < foreground_pixels_list[i + 4] and \\\n",
    "            foreground_pixels_list[i + 3] < foreground_pixels_list[i + 5]:\n",
    "        gait_period_flag_value_list.append(foreground_pixels_list[i + 3])\n",
    "        gait_period_flag_list.append(i)\n",
    "for i in range(len(gait_period_flag_value_list)):\n",
    "    gait_period_flag_real_index_list.append(gait_period_flag_list[i] + 3)\n",
    "print(\"gait_period_flag_real_index_list\", gait_period_flag_real_index_list)\n",
    "print(\"gait_period_flag_list\", gait_period_flag_list)\n",
    "one_gait_period_img_list = (img_list[gait_period_flag_list[0] + 3:gait_period_flag_list[2] + 3])\n",
    "print(\"Selected frames: \", len(img_list))\n",
    "print(\"One Gait Period Has: \", len(one_gait_period_img_list), \"frames\")\n",
    "\n",
    "# Plotting gait period graph\n",
    "x = range(len(foreground_pixels_list))\n",
    "x1 = gait_period_flag_real_index_list\n",
    "y = foreground_pixels_list\n",
    "y1 = gait_period_flag_value_list\n",
    "plt.figure(figsize=(15,5))\n",
    "plt.title(\"One Gait Period Has: \" + str(len(one_gait_period_img_list)) + \" Frames\", fontsize=15)\n",
    "plt.xticks(fontsize=15)\n",
    "plt.yticks(fontsize=15)\n",
    "plt.xlabel(\"Frames\", fontsize=15)\n",
    "plt.ylabel(\"Pixels\", fontsize=15)\n",
    "plt.scatter(x, y, s=40) \n",
    "plt.scatter(x1, y1, c='red', marker='x', s=100) \n",
    "plt.show()\n"
   ]
  },
  {
   "cell_type": "code",
   "execution_count": 56,
   "metadata": {},
   "outputs": [],
   "source": [
    "# For debugging, show selectted frames \n",
    "# for i in range(len(one_gait_period_img_list)):\n",
    "#     img_xx = one_gait_period_img_list[i]\n",
    "#     cv2.namedWindow('One gait Period', flags=0)\n",
    "#     cv2.imshow('One gait Period', img_xx)\n",
    "#     cv2.waitKey()\n",
    "# cv2.destroyAllWindows()"
   ]
  },
  {
   "cell_type": "code",
   "execution_count": 57,
   "metadata": {},
   "outputs": [
    {
     "name": "stdout",
     "output_type": "stream",
     "text": [
      "Minimum distance of all frames from centroid to left edge:  127\n",
      "Minimum distance of all frames from centroid to right edge:  72\n",
      "Minimum distance of all frames from top dege to subjects' heads:  48\n",
      "Minimum distance of all frames from bottom dege to subjects' feet:  48\n"
     ]
    }
   ],
   "source": [
    "# For getting Centroid of binary_silhouette\n",
    "for i in range(len(one_gait_period_img_list)):\n",
    "    gait_period_frame = one_gait_period_img_list[i]\n",
    "    m = cv2.moments(gait_period_frame)  # moment\n",
    "    cx, cy = m['m10'] / m['m00'], m['m01'] / m['m00']  # Centroid of binary_silhouette\n",
    "    cx = int(cx)  # For Normalise & Align\n",
    "    cx_right = gait_period_frame.shape[1] - cx\n",
    "    cx_right_list.append(cx_right)\n",
    "    cx_list.append(cx)\n",
    "    edge_to_head = find_dis_edge_to_head(gait_period_frame, gait_period_frame.shape[0], gait_period_frame.shape[1])\n",
    "    edge_to_feet = find_dis_edge_to_head(gait_period_frame, gait_period_frame.shape[0], gait_period_frame.shape[1])\n",
    "    edge_to_head_list.append(edge_to_head)\n",
    "    edge_to_feet_list.append(edge_to_feet)\n",
    "cx_left_min = cx_list[cx_list.index(min(cx_list))]\n",
    "cx_right_min = cx_right_list[cx_right_list.index(min(cx_right_list))]\n",
    "edge_to_head_min = edge_to_head_list[edge_to_head_list.index(min(edge_to_head_list))]\n",
    "edge_to_feet_min = edge_to_feet_list[edge_to_feet_list.index(min(edge_to_feet_list))]\n",
    "min_dis = min(cx_right_min, cx_left_min)\n",
    "print(\"Minimum distance of all frames from centroid to left edge: \", cx_left_min)\n",
    "print(\"Minimum distance of all frames from centroid to right edge: \", cx_right_min)\n",
    "print(\"Minimum distance of all frames from top dege to subjects' heads: \", edge_to_head_min)\n",
    "print(\"Minimum distance of all frames from bottom dege to subjects' feet: \", edge_to_feet_min)"
   ]
  },
  {
   "cell_type": "code",
   "execution_count": 59,
   "metadata": {},
   "outputs": [],
   "source": [
    "# Crop according to centroid of binary_silhouette\n",
    "for i in range(len(one_gait_period_img_list)):\n",
    "    cx = cx_list[i]\n",
    "    gait_period_frame = one_gait_period_img_list[i]\n",
    "    crop = gait_period_frame[edge_to_head_min:img.shape[0]-edge_to_feet_min+5, cx - min_dis:cx + min_dis]\n",
    "#     cv2.namedWindow('Crop', flags=0)\n",
    "#     cv2.imshow('Crop', crop)\n",
    "#     cv2.waitKey()\n",
    "    crop = crop.astype(np.uint64)\n",
    "    binary_silhouette_crop_list.append(crop)\n",
    "# cv2.destroyAllWindows()"
   ]
  },
  {
   "cell_type": "code",
   "execution_count": 61,
   "metadata": {},
   "outputs": [
    {
     "name": "stdout",
     "output_type": "stream",
     "text": [
      "GEI.shape:  (149, 144)\n"
     ]
    }
   ],
   "source": [
    "for i in range(len(one_gait_period_img_list)):\n",
    "    if i == 0:\n",
    "        gei_sum = binary_silhouette_crop_list[0]\n",
    "        # print(\"gei_sum\", gei_sum.shape)\n",
    "        # print(\"gei_sum\", binary_silhouette_crop_list[1].shape)\n",
    "    if i > 0:\n",
    "        gei_sum = cv2.add(gei_sum, binary_silhouette_crop_list[i])\n",
    "gei = gei_sum / len(one_gait_period_img_list)\n",
    "gei = gei.astype(np.uint8)\n",
    "cv2.namedWindow('GEI', flags=0)\n",
    "cv2.imshow('GEI', gei)\n",
    "cv2.waitKey()\n",
    "print(\"GEI.shape: \",gei.shape)\n",
    "cv2.destroyAllWindows()"
   ]
  },
  {
   "cell_type": "code",
   "execution_count": null,
   "metadata": {},
   "outputs": [],
   "source": []
  }
 ],
 "metadata": {
  "kernelspec": {
   "display_name": "Python 3",
   "language": "python",
   "name": "python3"
  },
  "language_info": {
   "codemirror_mode": {
    "name": "ipython",
    "version": 3
   },
   "file_extension": ".py",
   "mimetype": "text/x-python",
   "name": "python",
   "nbconvert_exporter": "python",
   "pygments_lexer": "ipython3",
   "version": "3.6.4"
  }
 },
 "nbformat": 4,
 "nbformat_minor": 2
}
